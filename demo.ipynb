{
 "cells": [
  {
   "cell_type": "code",
   "execution_count": 15,
   "metadata": {},
   "outputs": [],
   "source": [
    "import flamb\n",
    "from flamb import Variable\n",
    "from flamb import nn\n",
    "from flamb import functional as F\n",
    "from tqdm import tqdm\n",
    "import matplotlib.pyplot as plt\n",
    "import sys\n",
    "sys.setrecursionlimit(500000)"
   ]
  },
  {
   "cell_type": "code",
   "execution_count": 12,
   "metadata": {},
   "outputs": [
    {
     "name": "stdout",
     "output_type": "stream",
     "text": [
      "The minimum of the function is 0.0 and is obtained with 0.0\n"
     ]
    }
   ],
   "source": [
    "def f(x):\n",
    "    return x**2\n",
    "\n",
    "x = Variable(5, requires_grad=True)\n",
    "learning_rate = 1e-2\n",
    "\n",
    "for _ in range(500):        \n",
    "    loss = f(x)\n",
    "    loss.backward()\n",
    "    with flamb.no_grad():\n",
    "        x -= learning_rate*x.grad\n",
    "    x.requires_grad = True\n",
    "\n",
    "print(f\"The minimum of the function is {round(f(x).value, 3)} and is obtained with {round(x.value, 3)}\")"
   ]
  },
  {
   "cell_type": "code",
   "execution_count": 13,
   "metadata": {},
   "outputs": [
    {
     "name": "stdout",
     "output_type": "stream",
     "text": [
      "The minimum of the function is 0.0 and is obtained with x=0.0\n"
     ]
    }
   ],
   "source": [
    "x = Variable(5, requires_grad=True)\n",
    "learning_rate = 1e-2\n",
    "params = flamb.to_tensor([x])\n",
    "optimizer = flamb.nn.optimizers.SGD(params, learning_rate=learning_rate)\n",
    "\n",
    "for _ in range(500):        \n",
    "    loss = f(x)\n",
    "    loss.backward()\n",
    "    optimizer.step()\n",
    "\n",
    "print(f\"The minimum of the function is {round(f(x).value, 3)} and is obtained with x={round(x.value, 3)}\")"
   ]
  },
  {
   "cell_type": "code",
   "execution_count": 14,
   "metadata": {},
   "outputs": [
    {
     "name": "stdout",
     "output_type": "stream",
     "text": [
      "The minimum of the function is 0.0 and is obtained with x=0.0 and y=3.0\n"
     ]
    }
   ],
   "source": [
    "def g(x, y):\n",
    "    return x**2 + (y - 3)**2\n",
    "\n",
    "x = Variable(5, requires_grad=True)\n",
    "y = Variable(2, requires_grad=True)\n",
    "learning_rate = 1e-2\n",
    "params = flamb.to_tensor([x, y])\n",
    "optimizer = flamb.nn.optimizers.SGD(params, learning_rate=learning_rate)\n",
    "\n",
    "for _ in range(500):        \n",
    "    loss = g(x, y)\n",
    "    loss.backward()\n",
    "    optimizer.step()\n",
    "\n",
    "\n",
    "print(f\"The minimum of the function is {round(g(x, y).value, 3)} and is obtained with x={round(x.value, 3)} and y={round(y.value, 3)}\")"
   ]
  },
  {
   "cell_type": "code",
   "execution_count": null,
   "metadata": {},
   "outputs": [],
   "source": [
    "class Model(nn.Module):\n",
    "    def __init__(self):\n",
    "        super().__init__()\n",
    "        self.layer1 = nn.Linear(10, 20)\n",
    "        self.layer2 = nn.Linear(20, 30)\n",
    "        self.layer3 = nn.Linear(30, 1)\n",
    "        self.initialize_parameters()\n",
    "\n",
    "    def __call__(self, x):\n",
    "        x = F.ReLU(self.layer1(x))\n",
    "        x = F.ReLU(self.layer2(x))\n",
    "        x = self.layer3(x)\n",
    "        return x\n",
    "\n",
    "model = Model()\n",
    "loss_object = nn.losses.MSE()\n",
    "optimizer = nn.optimizers.SGD(model.parameters, learning_rate=1e-4)\n",
    "\n",
    "EPOCHS = 20\n",
    "\n",
    "losses = []\n",
    "for epoch in range(EPOCHS):\n",
    "    print(f\"Epoch {epoch+1}/{EPOCHS}\")\n",
    "    total_loss = 0\n",
    "    for _ in tqdm(range(5)):\n",
    "        x = flamb.ones((8, 10))\n",
    "        output = model(x)\n",
    "        target = flamb.zeros((8,1))\n",
    "        loss = loss_object(output, target)\n",
    "        loss.backward()\n",
    "        optimizer.step()\n",
    "        \n",
    "        total_loss += loss\n",
    "\n",
    "    losses.append(total_loss.get_value())\n",
    "    print(f\"Loss : {total_loss}\")\n",
    "\n",
    "plt.plot([i for i in range(1, EPOCHS+1)], losses)\n",
    "plt.title(\"Loss\")\n",
    "plt.xlabel(\"Epochs\")\n",
    "plt.ylabel(\"Loss\")\n",
    "plt.show()\n"
   ]
  }
 ],
 "metadata": {
  "kernelspec": {
   "display_name": "Python 3",
   "language": "python",
   "name": "python3"
  },
  "language_info": {
   "codemirror_mode": {
    "name": "ipython",
    "version": 3
   },
   "file_extension": ".py",
   "mimetype": "text/x-python",
   "name": "python",
   "nbconvert_exporter": "python",
   "pygments_lexer": "ipython3",
   "version": "3.10.7"
  },
  "orig_nbformat": 4,
  "vscode": {
   "interpreter": {
    "hash": "369f2c481f4da34e4445cda3fffd2e751bd1c4d706f27375911949ba6bb62e1c"
   }
  }
 },
 "nbformat": 4,
 "nbformat_minor": 2
}
